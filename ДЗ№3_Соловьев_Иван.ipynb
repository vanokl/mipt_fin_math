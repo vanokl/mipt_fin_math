{
 "cells": [
  {
   "attachments": {},
   "cell_type": "markdown",
   "metadata": {},
   "source": [
    "Импорты библиотек"
   ]
  },
  {
   "cell_type": "code",
   "execution_count": 176,
   "metadata": {},
   "outputs": [],
   "source": [
    "import pandas as pd\n",
    "import matplotlib.pyplot as plt\n",
    "import math\n",
    "from scipy.stats import t"
   ]
  },
  {
   "attachments": {},
   "cell_type": "markdown",
   "metadata": {},
   "source": [
    "Подготовка данных"
   ]
  },
  {
   "cell_type": "code",
   "execution_count": 177,
   "metadata": {},
   "outputs": [],
   "source": [
    "oil_df = pd.read_excel(\"oil_price.xlsx\", sheet_name=\"oil\")[[\"Date\", \"Adj Close**\"]].rename(columns={\"Adj Close**\": \"oil_price\"})\n",
    "usd_rub_df = pd.read_excel(\"oil_price.xlsx\", sheet_name=\"rub_usd\")[[\"Date\", \"Adj Close**\"]].rename(columns={\"Adj Close**\": \"usd_rub_curr\"})\n",
    "data = pd.merge(oil_df, usd_rub_df, on='Date', how='inner')\n",
    "\n",
    "x = data[\"oil_price\"]\n",
    "y = data[\"usd_rub_curr\"]\n"
   ]
  },
  {
   "attachments": {},
   "cell_type": "markdown",
   "metadata": {},
   "source": [
    "Код функции нахождения коэффициентов регрессии"
   ]
  },
  {
   "cell_type": "code",
   "execution_count": 178,
   "metadata": {},
   "outputs": [],
   "source": [
    "# Функция, возвращающая выборочное среднее\n",
    "def sample_mean(sample):\n",
    "    mean_s = 0\n",
    "    for s in sample:\n",
    "        mean_s += s\n",
    "\n",
    "    return mean_s / len(sample)\n",
    "\n",
    "# Функция, возвращающая выборочную дисперсию\n",
    "def sample_var(sample):\n",
    "    mean_s = sample_mean(sample)\n",
    "    var_s = 0\n",
    "    for s in sample:\n",
    "        var_s += (s - mean_s) ** 2\n",
    "\n",
    "    return var_s / len(sample)\n",
    "\n",
    "# Функция, возвращающая ковариацию\n",
    "def cov(x, y):\n",
    "\n",
    "    sub_x = [i - sample_mean(x) for i in x]\n",
    "    sub_y = [i - sample_mean(y) for i in y]\n",
    "    numerator = 0\n",
    "    for i in range(len(x)):\n",
    "        numerator += sub_x[i] * sub_y[i]\n",
    "\n",
    "    return numerator / (len(x) - 1)\n",
    "\n",
    "# Функция, возвращающая параметры коэф. a* и b* линейной регрессии прямой y = a*x + b*\n",
    "def get_regression_koef(x, y):\n",
    "    # Находим выборочное матожидание для x и y, а также дисперсию для x\n",
    "    mean_x = sample_mean(x)\n",
    "    mean_y = sample_mean(y)\n",
    "    var_x = sample_var(x)\n",
    "\n",
    " # нахождение ковариации для x, y\n",
    "    cov_xy = cov(x, y)\n",
    "\n",
    "    # коэффициент a* и b*\n",
    "    a = cov_xy / var_x\n",
    "    b = mean_y - cov_xy / var_x * mean_x\n",
    "    return a, b\n",
    "\n"
   ]
  },
  {
   "attachments": {},
   "cell_type": "markdown",
   "metadata": {},
   "source": [
    "# Задание 3"
   ]
  },
  {
   "attachments": {},
   "cell_type": "markdown",
   "metadata": {},
   "source": [
    "Находим уравнение регрессии"
   ]
  },
  {
   "cell_type": "code",
   "execution_count": 179,
   "metadata": {},
   "outputs": [
    {
     "name": "stdout",
     "output_type": "stream",
     "text": [
      "уравнение регрессии: у=0.76x + 21.66\n"
     ]
    }
   ],
   "source": [
    "# передаем функции наши эксперементальные данные и получаем уравнение регрессии\n",
    "a, b = get_regression_koef(x, y)\n",
    "y_regr = a * x + b\n",
    "print(f\"уравнение регрессии: у={a:.{2}f}x + {b:.{2}f}\")"
   ]
  },
  {
   "attachments": {},
   "cell_type": "markdown",
   "metadata": {},
   "source": [
    "Строим график линейной регрессии"
   ]
  },
  {
   "cell_type": "code",
   "execution_count": 180,
   "metadata": {},
   "outputs": [
    {
     "data": {
      "image/png": "[encoded data removed]",
      "text/plain": [
       "<Figure size 432x288 with 1 Axes>"
      ]
     },
     "metadata": {
      "needs_background": "light"
     },
     "output_type": "display_data"
    }
   ],
   "source": [
    "# отрисовка графика\n",
    "plt.plot(x.values, y.values, 'b.', label='экспериментальные данные')\n",
    "plt.plot(x.values, y_regr.values, 'g', label='линейная регрессия')\n",
    "# название осей и легенда\n",
    "plt.xlabel(\"oil_price\")\n",
    "plt.ylabel(\"usd_rub_curr\")\n",
    "plt.title(\"График задания 3\")\n",
    "plt.legend()\n",
    "\n",
    "plt.show()"
   ]
  },
  {
   "attachments": {},
   "cell_type": "markdown",
   "metadata": {},
   "source": [
    "Находим значимость параметров"
   ]
  },
  {
   "cell_type": "code",
   "execution_count": 181,
   "metadata": {},
   "outputs": [
    {
     "name": "stdout",
     "output_type": "stream",
     "text": [
      "Табличное значение t-критерия, t(табл)=1.6510713448508132\n",
      "Фактическое значение t-критерия параметра a, t(a)=6.976800404691247\n",
      "Фактическое значение t-критерия параметра b, t(b)=2.41954200196239\n"
     ]
    }
   ],
   "source": [
    "T_table = t.ppf(0.95, len(x)-2-1)\n",
    "\n",
    "Sres = math.sqrt(sum((y - y_regr) ** 2) / (len(y)-1-1))\n",
    "\n",
    "Sa = Sres / (math.sqrt(len(x))  * x.std())\n",
    "Sb = Sres * math.sqrt(sum(x ** 2)) / (len(x) * x.std()) \n",
    "\n",
    "Ta = a / Sa\n",
    "Tb = b / Sb\n",
    "\n",
    "print(f\"Табличное значение t-критерия, t(табл)={T_table}\")\n",
    "print(f\"Фактическое значение t-критерия параметра a, t(a)={Ta}\")\n",
    "print(f\"Фактическое значение t-критерия параметра b, t(b)={Tb}\")\n"
   ]
  },
  {
   "attachments": {},
   "cell_type": "markdown",
   "metadata": {},
   "source": [
    "Вывод:\n",
    "\n",
    "Получено уравнение линейно регрессии у=0.76x + 21.66\n",
    "\n",
    "Фактическое значение t-критерия параметра a, t(a)=6.98 > t(табл)=1.65, параетр стат. значим\n",
    "\n",
    "Фактическое значение t-критерия параметра b, t(b)=2.41 > t(табл)=1.65, параетр стат. значим"
   ]
  },
  {
   "attachments": {},
   "cell_type": "markdown",
   "metadata": {},
   "source": [
    "# Задание 4"
   ]
  },
  {
   "attachments": {},
   "cell_type": "markdown",
   "metadata": {},
   "source": [
    "Логарифмируем x"
   ]
  },
  {
   "cell_type": "code",
   "execution_count": 182,
   "metadata": {},
   "outputs": [],
   "source": [
    "x_log = x.apply(lambda x: math.log(x))\n",
    "y_log = y.apply(lambda y: math.log(y))"
   ]
  },
  {
   "attachments": {},
   "cell_type": "markdown",
   "metadata": {},
   "source": [
    "Находим уравнение регрессии"
   ]
  },
  {
   "cell_type": "code",
   "execution_count": 183,
   "metadata": {},
   "outputs": [
    {
     "name": "stdout",
     "output_type": "stream",
     "text": [
      "уравнение регрессии: у=0.69x + 1.37\n"
     ]
    }
   ],
   "source": [
    "# передаем функции наши эксперементальные данные и получаем уравнение регрессии\n",
    "a, b = get_regression_koef(x_log, y_log)\n",
    "y_regr = a * x_log + b\n",
    "print(f\"уравнение регрессии: у={a:.{2}f}x + {b:.{2}f}\")"
   ]
  },
  {
   "attachments": {},
   "cell_type": "markdown",
   "metadata": {},
   "source": [
    "Строим график линейной регрессии"
   ]
  },
  {
   "cell_type": "code",
   "execution_count": 184,
   "metadata": {},
   "outputs": [
    {
     "data": {
      "image/png": "[encoded data removed]",
      "text/plain": [
       "<Figure size 432x288 with 1 Axes>"
      ]
     },
     "metadata": {
      "needs_background": "light"
     },
     "output_type": "display_data"
    }
   ],
   "source": [
    "# отрисовка графика\n",
    "plt.plot(x_log.values, y_log.values, 'b.', label='экспериментальные данные')\n",
    "plt.plot(x_log.values, y_regr.values, 'g', label='линейная регрессия')\n",
    "# название осей и легенда\n",
    "plt.xlabel(\"oil_price\")\n",
    "plt.ylabel(\"usd_rub_curr\")\n",
    "plt.title(\"График задания 4\")\n",
    "plt.legend()\n",
    "\n",
    "plt.show()"
   ]
  },
  {
   "attachments": {},
   "cell_type": "markdown",
   "metadata": {},
   "source": [
    "Находим значимость параметров"
   ]
  },
  {
   "cell_type": "code",
   "execution_count": 185,
   "metadata": {},
   "outputs": [
    {
     "name": "stdout",
     "output_type": "stream",
     "text": [
      "Табличное значение t-критерия, t(табл)=1.6510460767426216\n",
      "Фактическое значение t-критерия параметра a, t(a)=6.222790381943239\n",
      "Фактическое значение t-критерия параметра b, t(b)=2.8055387922087487\n"
     ]
    }
   ],
   "source": [
    "T_table = t.ppf(0.95, len(x)-1-1)\n",
    "\n",
    "Sres = math.sqrt(sum((y_log - y_regr) ** 2) / (len(y_log)-1-1))\n",
    "\n",
    "Sa = Sres / (math.sqrt(len(x_log))  * x_log.std())\n",
    "Sb = Sres * math.sqrt(sum(x_log ** 2)) / (len(x_log) * x_log.std()) \n",
    "\n",
    "Ta = a / Sa\n",
    "Tb = b / Sb\n",
    "\n",
    "print(f\"Табличное значение t-критерия, t(табл)={T_table}\")\n",
    "print(f\"Фактическое значение t-критерия параметра a, t(a)={Ta}\")\n",
    "print(f\"Фактическое значение t-критерия параметра b, t(b)={Tb}\")\n"
   ]
  },
  {
   "attachments": {},
   "cell_type": "markdown",
   "metadata": {},
   "source": [
    "Вывод:\n",
    "\n",
    "Получено уравнение линейной регрессии у=0.69x + 1.37 \n",
    "\n",
    "Фактическое значение t-критерия параметра a, t(a)=6.22 > t(табл)=1.65, параетр стат. значим\n",
    "\n",
    "Фактическое значение t-критерия параметра b, t(b)=2.81 > t(табл)=1.65, параетр стат. значим"
   ]
  }
 ],
 "metadata": {
  "kernelspec": {
   "display_name": "base",
   "language": "python",
   "name": "python3"
  },
  "language_info": {
   "codemirror_mode": {
    "name": "ipython",
    "version": 3
   },
   "file_extension": ".py",
   "mimetype": "text/x-python",
   "name": "python",
   "nbconvert_exporter": "python",
   "pygments_lexer": "ipython3",
   "version": "3.9.7"
  },
  "orig_nbformat": 4
 },
 "nbformat": 4,
 "nbformat_minor": 2
}
